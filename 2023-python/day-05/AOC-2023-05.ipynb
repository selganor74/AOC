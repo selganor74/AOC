{
 "cells": [
  {
   "cell_type": "markdown",
   "id": "63e895cf",
   "metadata": {},
   "source": [
    "https://adventofcode.com/2023/day/5\n",
    "\n",
    "--- Day 5: If You Give A Seed A Fertilizer ---\n",
    "You take the boat and find the gardener right where you were told he would be: managing a giant \"garden\" that looks more to you like a farm.\n",
    "\n",
    "\"A water source? Island Island is the water source!\" You point out that Snow Island isn't receiving any water.\n",
    "\n",
    "\"Oh, we had to stop the water because we ran out of sand to filter it with! Can't make snow with dirty water. Don't worry, I'm sure we'll get more sand soon; we only turned off the water a few days... weeks... oh no.\" His face sinks into a look of horrified realization.\n",
    "\n",
    "\"I've been so busy making sure everyone here has food that I completely forgot to check why we stopped getting more sand! There's a ferry leaving soon that is headed over in that direction - it's much faster than your boat. Could you please go check it out?\"\n",
    "\n",
    "You barely have time to agree to this request when he brings up another. \"While you wait for the ferry, maybe you can help us with our food production problem. The latest Island Island Almanac just arrived and we're having trouble making sense of it.\"\n",
    "\n",
    "The almanac (your puzzle input) lists all of the seeds that need to be planted. It also lists what type of soil to use with each kind of seed, what type of fertilizer to use with each kind of soil, what type of water to use with each kind of fertilizer, and so on. Every type of seed, soil, fertilizer and so on is identified with a number, but numbers are reused by each category - that is, soil 123 and fertilizer 123 aren't necessarily related to each other.\n",
    "\n",
    "For example:\n",
    "\n",
    "seeds: 79 14 55 13\n",
    "\n",
    "seed-to-soil map:\n",
    "50 98 2\n",
    "52 50 48\n",
    "\n",
    "soil-to-fertilizer map:\n",
    "0 15 37\n",
    "37 52 2\n",
    "39 0 15\n",
    "\n",
    "fertilizer-to-water map:\n",
    "49 53 8\n",
    "0 11 42\n",
    "42 0 7\n",
    "57 7 4\n",
    "\n",
    "water-to-light map:\n",
    "88 18 7\n",
    "18 25 70\n",
    "\n",
    "light-to-temperature map:\n",
    "45 77 23\n",
    "81 45 19\n",
    "68 64 13\n",
    "\n",
    "temperature-to-humidity map:\n",
    "0 69 1\n",
    "1 0 69\n",
    "\n",
    "humidity-to-location map:\n",
    "60 56 37\n",
    "56 93 4\n",
    "The almanac starts by listing which seeds need to be planted: seeds 79, 14, 55, and 13.\n",
    "\n",
    "The rest of the almanac contains a list of maps which describe how to convert numbers from a source category into numbers in a destination category. That is, the section that starts with seed-to-soil map: describes how to convert a seed number (the source) to a soil number (the destination). This lets the gardener and his team know which soil to use with which seeds, which water to use with which fertilizer, and so on.\n",
    "\n",
    "Rather than list every source number and its corresponding destination number one by one, the maps describe entire ranges of numbers that can be converted. Each line within a map contains three numbers: the destination range start, the source range start, and the range length.\n",
    "\n",
    "Consider again the example seed-to-soil map:\n",
    "\n",
    "50 98 2\n",
    "52 50 48\n",
    "The first line has a destination range start of 50, a source range start of 98, and a range length of 2. This line means that the source range starts at 98 and contains two values: 98 and 99. The destination range is the same length, but it starts at 50, so its two values are 50 and 51. With this information, you know that seed number 98 corresponds to soil number 50 and that seed number 99 corresponds to soil number 51.\n",
    "\n",
    "The second line means that the source range starts at 50 and contains 48 values: 50, 51, ..., 96, 97. This corresponds to a destination range starting at 52 and also containing 48 values: 52, 53, ..., 98, 99. So, seed number 53 corresponds to soil number 55.\n",
    "\n",
    "Any source numbers that aren't mapped correspond to the same destination number. So, seed number 10 corresponds to soil number 10.\n",
    "\n",
    "So, the entire list of seed numbers and their corresponding soil numbers looks like this:\n",
    "\n",
    "seed  soil\n",
    "0     0\n",
    "1     1\n",
    "...   ...\n",
    "48    48\n",
    "49    49\n",
    "50    52\n",
    "51    53\n",
    "...   ...\n",
    "96    98\n",
    "97    99\n",
    "98    50\n",
    "99    51\n",
    "With this map, you can look up the soil number required for each initial seed number:\n",
    "\n",
    "Seed number 79 corresponds to soil number 81.\n",
    "Seed number 14 corresponds to soil number 14.\n",
    "Seed number 55 corresponds to soil number 57.\n",
    "Seed number 13 corresponds to soil number 13.\n",
    "The gardener and his team want to get started as soon as possible, so they'd like to know the closest location that needs a seed. Using these maps, find the lowest location number that corresponds to any of the initial seeds. To do this, you'll need to convert each seed number through other categories until you can find its corresponding location number. In this example, the corresponding types are:\n",
    "\n",
    "Seed 79, soil 81, fertilizer 81, water 81, light 74, temperature 78, humidity 78, location 82.\n",
    "Seed 14, soil 14, fertilizer 53, water 49, light 42, temperature 42, humidity 43, location 43.\n",
    "Seed 55, soil 57, fertilizer 57, water 53, light 46, temperature 82, humidity 82, location 86.\n",
    "Seed 13, soil 13, fertilizer 52, water 41, light 34, temperature 34, humidity 35, location 35.\n",
    "So, the lowest location number in this example is 35.\n",
    "\n",
    "What is the lowest location number that corresponds to any of the initial seed numbers?\n",
    "\n",
    "Your puzzle answer was 662197086.\n",
    "\n",
    "The first half of this puzzle is complete! It provides one gold star: *\n",
    "\n",
    "--- Part Two ---\n",
    "Everyone will starve if you only plant such a small number of seeds. Re-reading the almanac, it looks like the seeds: line actually describes ranges of seed numbers.\n",
    "\n",
    "The values on the initial seeds: line come in pairs. Within each pair, the first value is the start of the range and the second value is the length of the range. So, in the first line of the example above:\n",
    "\n",
    "seeds: 79 14 55 13\n",
    "This line describes two ranges of seed numbers to be planted in the garden. The first range starts with seed number 79 and contains 14 values: 79, 80, ..., 91, 92. The second range starts with seed number 55 and contains 13 values: 55, 56, ..., 66, 67.\n",
    "\n",
    "Now, rather than considering four seed numbers, you need to consider a total of 27 seed numbers.\n",
    "\n",
    "In the above example, the lowest location number can be obtained from seed number 82, which corresponds to soil 84, fertilizer 84, water 84, light 77, temperature 45, humidity 46, and location 46. So, the lowest location number is 46.\n",
    "\n",
    "Consider all of the initial seed numbers listed in the ranges on the first line of the almanac. What is the lowest location number that corresponds to any of the initial seed numbers?\n",
    "\n",
    "Your puzzle answer was 52510809"
   ]
  },
  {
   "cell_type": "code",
   "execution_count": 1,
   "id": "5545cd34",
   "metadata": {},
   "outputs": [],
   "source": [
    "input_seeds = \"1972667147 405592018 1450194064 27782252 348350443 61862174 3911195009 181169206 626861593 138786487 2886966111 275299008 825403564 478003391 514585599 6102091 2526020300 15491453 3211013652 546191739\"\n"
   ]
  },
  {
   "cell_type": "code",
   "execution_count": 2,
   "id": "b2aeddbc",
   "metadata": {},
   "outputs": [],
   "source": [
    "input_seed_to_soil_map = \"\"\"\n",
    "325190047 421798005 78544109\n",
    "4034765382 1473940091 137996533\n",
    "403734156 658668780 288666603\n",
    "2574766003 2624114227 17352982\n",
    "1931650757 2203381572 98211987\n",
    "4263596455 2843660329 31370841\n",
    "1614547845 2641467209 55121215\n",
    "3441604278 2032673361 170708211\n",
    "692400759 563703672 94965108\n",
    "2992851755 3824700930 114550818\n",
    "3957953582 2540115966 24844899\n",
    "0 500342114 59804107\n",
    "4172761915 2577017231 47096996\n",
    "2029862744 3548344768 52256082\n",
    "2620304610 2875031170 99567251\n",
    "3982798481 3939251748 51966901\n",
    "2325101894 1616388089 203150170\n",
    "3612312489 1611936624 4451465\n",
    "787365867 0 77461445\n",
    "1341614907 4162572181 132395115\n",
    "2542801978 3468402968 31964025\n",
    "223387052 947335383 59156225\n",
    "2297805420 1819538259 27296474\n",
    "2082118826 3991218649 171353532\n",
    "3374211778 3040047171 67392500\n",
    "2592118985 1341614907 28185625\n",
    "2253472358 2495782904 44333062\n",
    "4219858911 3780963386 43737544\n",
    "59804107 560146221 3557451\n",
    "3107402573 3600600850 64973479\n",
    "1669669060 3115086052 235712356\n",
    "2719871861 1369800532 104139559\n",
    "3172376052 2301593559 194189345\n",
    "2980795389 2564960865 12056366\n",
    "1905381416 3350798408 26269341\n",
    "63361558 261772511 160025494\n",
    "2824011420 3377067749 91335219\n",
    "3366565397 3107439671 7646381\n",
    "282543277 77461445 42646770\n",
    "3713793353 2696588424 147071905\n",
    "2528252064 1877585624 14549914\n",
    "3927202691 1846834733 30750891\n",
    "3665815578 3500366993 47977775\n",
    "1474010022 1892135538 140537823\n",
    "3616763954 3665574329 49051624\n",
    "2915346639 2974598421 65448750\n",
    "864827312 120108215 141664296\n",
    "3860865258 3714625953 66337433\n",
    "\"\"\""
   ]
  },
  {
   "cell_type": "code",
   "execution_count": 3,
   "id": "f4ca71b9",
   "metadata": {},
   "outputs": [],
   "source": [
    "input_soil_to_fertilizer = \"\"\"\n",
    "3835605444 4098164436 1662218\n",
    "682286299 0 63480553\n",
    "396476124 2072802434 285810175\n",
    "1644893571 655614677 162631098\n",
    "3625179075 4099826654 40627721\n",
    "1431211762 1859120625 213681809\n",
    "2853687843 4140454375 103601386\n",
    "1390165578 2358612609 41046184\n",
    "2405285827 3959200676 138963760\n",
    "900243562 1478767251 170015757\n",
    "3727732722 3084190064 107872722\n",
    "893948759 1084467374 6294803\n",
    "210337617 818245775 186138507\n",
    "1807524669 63480553 592134124\n",
    "825849944 1090762177 68098815\n",
    "3837267662 3192062786 457699634\n",
    "0 1648783008 210337617\n",
    "3665806796 2405285827 61925926\n",
    "1070259319 1158860992 319906259\n",
    "745766852 1004384282 80083092\n",
    "2957289229 4244055761 50911535\n",
    "2544249587 3649762420 309438256\n",
    "3008200764 2467211753 616978311\n",
    "\"\"\""
   ]
  },
  {
   "cell_type": "code",
   "execution_count": 4,
   "id": "c8b93aef",
   "metadata": {},
   "outputs": [],
   "source": [
    "input_fertilizer_to_water_map = \"\"\"\n",
    "1169336944 3024036226 46676171\n",
    "1263157944 1445876546 148868263\n",
    "2080390054 2683279801 65621604\n",
    "949040795 1266013203 61140343\n",
    "2146011658 2793621589 110265098\n",
    "525510412 2618124082 65155719\n",
    "2977122301 3122211455 179751286\n",
    "3885825304 713560214 409141992\n",
    "1081017627 4124851079 88319317\n",
    "590666131 2039951828 38597255\n",
    "3596454634 1981772613 58179215\n",
    "2256276756 2078549083 315165891\n",
    "1639631621 1122702206 143310997\n",
    "2858399301 1327153546 118723000\n",
    "3654633849 3301962741 72039868\n",
    "749412925 3549292249 161128796\n",
    "1412026207 541983534 151190298\n",
    "1054901322 4268850991 26116305\n",
    "1829368778 3374002609 175289640\n",
    "1216013115 2570979253 47144829\n",
    "2806900243 3070712397 51499058\n",
    "1563216505 3760425124 76415116\n",
    "1782942618 3710421045 29953038\n",
    "629263386 2903886687 120149539\n",
    "2060339013 3740374083 20051041\n",
    "3156873587 3836840240 52553243\n",
    "2693038006 4010988842 113862237\n",
    "3726673717 2411827666 159151587\n",
    "2004658418 4213170396 55680595\n",
    "1812895656 525510412 16473122\n",
    "1010181138 2748901405 44720184\n",
    "910541721 693173832 20386382\n",
    "930928103 2393714974 18112692\n",
    "3209426830 1594744809 387027804\n",
    "2571442647 3889393483 121595359\n",
    "\"\"\""
   ]
  },
  {
   "cell_type": "code",
   "execution_count": 5,
   "id": "666ce84e",
   "metadata": {},
   "outputs": [],
   "source": [
    "input_water_to_light_map = \"\"\"\n",
    "555269773 2142838063 230952411\n",
    "2879443939 2889030006 80512763\n",
    "192641991 2686257040 106620606\n",
    "786222184 967781117 56662479\n",
    "3467110983 4162792381 132174915\n",
    "1955778230 0 505352386\n",
    "2461130616 1138855522 99691153\n",
    "1436321461 1403321335 440861327\n",
    "2625559119 1024443596 104825859\n",
    "1255310011 2792877646 96152360\n",
    "1877182788 697994377 78595442\n",
    "3732975066 3467110983 374194949\n",
    "842884663 2373790474 56459390\n",
    "299262597 2430249864 256007176\n",
    "3599285898 3841305932 133689168\n",
    "4107170015 3974995100 187797281\n",
    "0 505352386 192641991\n",
    "1090535351 1238546675 164774660\n",
    "2959956702 1129269455 9586067\n",
    "1351462371 1844182662 84859090\n",
    "2730384978 1929041752 149058961\n",
    "899344053 776589819 191191298\n",
    "2560821769 2078100713 64737350\n",
    "\"\"\""
   ]
  },
  {
   "cell_type": "code",
   "execution_count": 6,
   "id": "4f714a53",
   "metadata": {},
   "outputs": [],
   "source": [
    "input_light_to_temperature_map = \"\"\"\n",
    "4103141199 3912772142 105835099\n",
    "1994281004 833968687 112844016\n",
    "4208976298 1124841590 85990998\n",
    "3756966983 4018607241 111390720\n",
    "3868357703 1907239336 234783496\n",
    "2368591640 1210832588 293667703\n",
    "882426579 2320467318 1111854425\n",
    "3064998388 717457244 33489309\n",
    "3578938096 946812703 178028887\n",
    "2107125020 750946553 83022134\n",
    "3157760738 3432321743 421177358\n",
    "717457244 4129997961 164969335\n",
    "2190147154 2142022832 178444486\n",
    "3098487697 3853499101 59273041\n",
    "2662259343 1504500291 402739045\n",
    "\"\"\""
   ]
  },
  {
   "cell_type": "code",
   "execution_count": 7,
   "id": "43ad46de",
   "metadata": {},
   "outputs": [],
   "source": [
    "input_temperature_to_humidity_map = \"\"\"\n",
    "0 1820412620 129662806\n",
    "613828383 2855382935 55943394\n",
    "4004726464 3519717349 290240832\n",
    "769767991 99996214 1720416406\n",
    "3126066249 3043992795 475724554\n",
    "2490184397 2434241003 421141932\n",
    "129662806 1950075426 484165577\n",
    "689805485 0 79962506\n",
    "669771777 79962506 20033708\n",
    "3601790803 3809958181 402935661\n",
    "3043992795 4212893842 82073454\n",
    "\"\"\""
   ]
  },
  {
   "cell_type": "code",
   "execution_count": 8,
   "id": "7821ccfb",
   "metadata": {},
   "outputs": [],
   "source": [
    "input_humidity_to_location_map = \"\"\"\n",
    "1305211417 3371927062 89487200\n",
    "947159122 0 358052295\n",
    "324330151 2021970861 8067408\n",
    "332397559 654359706 174171341\n",
    "506568900 3311893445 60033617\n",
    "11065691 828531047 45586147\n",
    "3556729147 369117986 26689998\n",
    "3583419145 395807984 258551722\n",
    "2356886904 984938593 400606547\n",
    "1394698617 874117194 110821399\n",
    "566602517 3946624826 164852367\n",
    "2998901322 2301963630 256425441\n",
    "0 358052295 11065691\n",
    "3331964991 3087129289 34908052\n",
    "1505520016 2106676497 195287133\n",
    "56651838 2819450976 267678313\n",
    "3366873043 3293025783 18867662\n",
    "3385740705 3122037341 170988442\n",
    "2281795782 2799796942 19654034\n",
    "2301449816 1966533773 55437088\n",
    "3992934054 3677118500 118543139\n",
    "3255326763 2030038269 76638228\n",
    "3849868384 3803559156 143065670\n",
    "2757493451 2558389071 241407871\n",
    "3841970867 3795661639 7897517\n",
    "1700807149 1385545140 580988633\n",
    "731454884 3461414262 215704238\n",
    "\"\"\""
   ]
  },
  {
   "cell_type": "code",
   "execution_count": 9,
   "id": "c3d654ed",
   "metadata": {},
   "outputs": [
    {
     "data": {
      "text/plain": [
       "662197086"
      ]
     },
     "execution_count": 9,
     "metadata": {},
     "output_type": "execute_result"
    }
   ],
   "source": [
    "from collections import OrderedDict\n",
    "\n",
    "def split_row_of_numbers(row):\n",
    "    to_return = row.split();\n",
    "    to_return = [int(num) for num in to_return]\n",
    "    return to_return\n",
    "\n",
    "def split_multi_row(multi_row):\n",
    "    to_return = []\n",
    "    rows = multi_row.split('\\n')\n",
    "    for row in rows:\n",
    "        to_add = split_row_of_numbers(row)\n",
    "        if len(to_add) > 0:\n",
    "            to_return.append(to_add)\n",
    "        \n",
    "    return to_return\n",
    "\n",
    "def fill_seed_map(seed, maps):\n",
    "    to_return = {}\n",
    "    source = seed\n",
    "\n",
    "    for m in sorted(maps):\n",
    "        this_map = maps[m]\n",
    "        output = -1\n",
    "        range_len = -1\n",
    "        source_start = -1\n",
    "        dest_start = -1\n",
    "\n",
    "        for mrange in this_map:\n",
    "            range_len = mrange[2]\n",
    "            source_start = mrange[1]\n",
    "            source_end = source_start + range_len\n",
    "            dest_start = mrange[0]\n",
    "\n",
    "            if source >= source_start and source < source_end:\n",
    "                output = dest_start + (source - source_start)\n",
    "                break\n",
    "                \n",
    "        if output == -1:\n",
    "            # [...] Any source numbers that aren't mapped correspond to the same destination number [...]\n",
    "            output = source\n",
    "            # raise ValueError(\"[Seed: \" + str(seed) + \" RangeLen: \" + str(range_len) + \" DestStart: \" + str(dest_start) + \" SourceStart: \" + str(source_start) + \"] Could not find value for \" + str(source) + \" in map \" + str(m))\n",
    "        \n",
    "        source = output\n",
    "        to_return[m] = output\n",
    "        \n",
    "    return to_return\n",
    "            \n",
    "\n",
    "def build_seed_map(seeds, maps):\n",
    "    to_return = {}\n",
    "    for seed in seeds:\n",
    "        to_return[seed] = fill_seed_map(seed, maps)\n",
    "        \n",
    "    return to_return\n",
    "\n",
    "# Part 1\n",
    "from functools import reduce\n",
    "def find_lowest_location_number(seed_map):\n",
    "    all_locations = (seed_map[seed][7] for seed in seed_map)\n",
    "    return reduce(lambda x, y: min(x,y), all_locations)\n",
    "        \n",
    "\n",
    "seeds = split_row_of_numbers(input_seeds)\n",
    "maps = OrderedDict({\n",
    "    1: split_multi_row(input_seed_to_soil_map),\n",
    "    2: split_multi_row(input_soil_to_fertilizer),\n",
    "    3: split_multi_row(input_fertilizer_to_water_map),\n",
    "    4: split_multi_row(input_water_to_light_map),\n",
    "    5: split_multi_row(input_light_to_temperature_map),\n",
    "    6: split_multi_row(input_temperature_to_humidity_map),\n",
    "    7: split_multi_row(input_humidity_to_location_map)\n",
    "})\n",
    "\n",
    "seed_map = build_seed_map(seeds, maps)\n",
    "\n",
    "find_lowest_location_number(seed_map)"
   ]
  },
  {
   "cell_type": "code",
   "execution_count": 28,
   "id": "e5506437",
   "metadata": {},
   "outputs": [
    {
     "data": {
      "application/vnd.jupyter.widget-view+json": {
       "model_id": "8f0c19bc81c54183be114859087e881d",
       "version_major": 2,
       "version_minor": 0
      },
      "text/plain": [
       "  0%|          | 0/10 [00:00<?, ?it/s]"
      ]
     },
     "metadata": {},
     "output_type": "display_data"
    },
    {
     "name": "stdout",
     "output_type": "stream",
     "text": [
      "Starting from seed: 1972667147 range: 405592018\n"
     ]
    },
    {
     "data": {
      "application/vnd.jupyter.widget-view+json": {
       "model_id": "8744663719254cff9a684cf09eef1593",
       "version_major": 2,
       "version_minor": 0
      },
      "text/plain": [
       "  0%|          | 0/40560 [00:00<?, ?it/s]"
      ]
     },
     "metadata": {},
     "output_type": "display_data"
    },
    {
     "name": "stdout",
     "output_type": "stream",
     "text": [
      "Starting from seed: 1450194064 range: 27782252\n"
     ]
    },
    {
     "data": {
      "application/vnd.jupyter.widget-view+json": {
       "model_id": "3587fcd6a11c4525bdfdc4cd8761cbb9",
       "version_major": 2,
       "version_minor": 0
      },
      "text/plain": [
       "  0%|          | 0/2779 [00:00<?, ?it/s]"
      ]
     },
     "metadata": {},
     "output_type": "display_data"
    },
    {
     "name": "stdout",
     "output_type": "stream",
     "text": [
      "Starting from seed: 348350443 range: 61862174\n"
     ]
    },
    {
     "data": {
      "application/vnd.jupyter.widget-view+json": {
       "model_id": "714790d3820548e99f5851f401d91b60",
       "version_major": 2,
       "version_minor": 0
      },
      "text/plain": [
       "  0%|          | 0/6187 [00:00<?, ?it/s]"
      ]
     },
     "metadata": {},
     "output_type": "display_data"
    },
    {
     "name": "stdout",
     "output_type": "stream",
     "text": [
      "Starting from seed: 3911195009 range: 181169206\n"
     ]
    },
    {
     "data": {
      "application/vnd.jupyter.widget-view+json": {
       "model_id": "248d3e237d5841b09ccd50a98ef72660",
       "version_major": 2,
       "version_minor": 0
      },
      "text/plain": [
       "  0%|          | 0/18117 [00:00<?, ?it/s]"
      ]
     },
     "metadata": {},
     "output_type": "display_data"
    },
    {
     "name": "stdout",
     "output_type": "stream",
     "text": [
      "Starting from seed: 626861593 range: 138786487\n"
     ]
    },
    {
     "data": {
      "application/vnd.jupyter.widget-view+json": {
       "model_id": "fa24e2ea2d37461589f1528b121a55f8",
       "version_major": 2,
       "version_minor": 0
      },
      "text/plain": [
       "  0%|          | 0/13879 [00:00<?, ?it/s]"
      ]
     },
     "metadata": {},
     "output_type": "display_data"
    },
    {
     "name": "stdout",
     "output_type": "stream",
     "text": [
      "Starting from seed: 2886966111 range: 275299008\n"
     ]
    },
    {
     "data": {
      "application/vnd.jupyter.widget-view+json": {
       "model_id": "1429e0df3fbc4b00b2678c75c6169542",
       "version_major": 2,
       "version_minor": 0
      },
      "text/plain": [
       "  0%|          | 0/27530 [00:00<?, ?it/s]"
      ]
     },
     "metadata": {},
     "output_type": "display_data"
    },
    {
     "name": "stdout",
     "output_type": "stream",
     "text": [
      "Starting from seed: 825403564 range: 478003391\n"
     ]
    },
    {
     "data": {
      "application/vnd.jupyter.widget-view+json": {
       "model_id": "98e021b7bd164ec68ca9e39760dd3fcb",
       "version_major": 2,
       "version_minor": 0
      },
      "text/plain": [
       "  0%|          | 0/47801 [00:00<?, ?it/s]"
      ]
     },
     "metadata": {},
     "output_type": "display_data"
    },
    {
     "name": "stdout",
     "output_type": "stream",
     "text": [
      "Starting from seed: 514585599 range: 6102091\n"
     ]
    },
    {
     "data": {
      "application/vnd.jupyter.widget-view+json": {
       "model_id": "ac784e099d91443aab3402e020cee060",
       "version_major": 2,
       "version_minor": 0
      },
      "text/plain": [
       "  0%|          | 0/611 [00:00<?, ?it/s]"
      ]
     },
     "metadata": {},
     "output_type": "display_data"
    },
    {
     "name": "stdout",
     "output_type": "stream",
     "text": [
      "Starting from seed: 2526020300 range: 15491453\n"
     ]
    },
    {
     "data": {
      "application/vnd.jupyter.widget-view+json": {
       "model_id": "70e70d4e7a424779b83097d1a1a393e7",
       "version_major": 2,
       "version_minor": 0
      },
      "text/plain": [
       "  0%|          | 0/1550 [00:00<?, ?it/s]"
      ]
     },
     "metadata": {},
     "output_type": "display_data"
    },
    {
     "name": "stdout",
     "output_type": "stream",
     "text": [
      "Starting from seed: 3211013652 range: 546191739\n"
     ]
    },
    {
     "data": {
      "application/vnd.jupyter.widget-view+json": {
       "model_id": "5c380540bf924c01adec63da6e2c89e1",
       "version_major": 2,
       "version_minor": 0
      },
      "text/plain": [
       "  0%|          | 0/54620 [00:00<?, ?it/s]"
      ]
     },
     "metadata": {},
     "output_type": "display_data"
    },
    {
     "name": "stdout",
     "output_type": "stream",
     "text": [
      "local minimum 3107446111: 52517249\n"
     ]
    },
    {
     "data": {
      "application/vnd.jupyter.widget-view+json": {
       "model_id": "ca3b6056f99043ae871a78548fd67fba",
       "version_major": 2,
       "version_minor": 0
      },
      "text/plain": [
       "  0%|          | 0/1 [00:00<?, ?it/s]"
      ]
     },
     "metadata": {},
     "output_type": "display_data"
    },
    {
     "name": "stdout",
     "output_type": "stream",
     "text": [
      "Starting from seed: 3107426111 range: 39999\n"
     ]
    },
    {
     "data": {
      "application/vnd.jupyter.widget-view+json": {
       "model_id": "566333c416354851aba67bcfe9692e90",
       "version_major": 2,
       "version_minor": 0
      },
      "text/plain": [
       "  0%|          | 0/40 [00:00<?, ?it/s]"
      ]
     },
     "metadata": {},
     "output_type": "display_data"
    },
    {
     "name": "stdout",
     "output_type": "stream",
     "text": [
      "local minimum 3107440111: 52511249\n"
     ]
    },
    {
     "data": {
      "application/vnd.jupyter.widget-view+json": {
       "model_id": "204a74ddb4ca478ca65b147a1400c30e",
       "version_major": 2,
       "version_minor": 0
      },
      "text/plain": [
       "  0%|          | 0/1 [00:00<?, ?it/s]"
      ]
     },
     "metadata": {},
     "output_type": "display_data"
    },
    {
     "name": "stdout",
     "output_type": "stream",
     "text": [
      "Starting from seed: 3107438111 range: 3999\n"
     ]
    },
    {
     "data": {
      "application/vnd.jupyter.widget-view+json": {
       "model_id": "8b6afd05b3d24e80bd532b1790d011d2",
       "version_major": 2,
       "version_minor": 0
      },
      "text/plain": [
       "  0%|          | 0/40 [00:00<?, ?it/s]"
      ]
     },
     "metadata": {},
     "output_type": "display_data"
    },
    {
     "name": "stdout",
     "output_type": "stream",
     "text": [
      "local minimum 3107439711: 52510849\n"
     ]
    },
    {
     "data": {
      "application/vnd.jupyter.widget-view+json": {
       "model_id": "8c1bdab47cc440b7bcc5502c6b0f7500",
       "version_major": 2,
       "version_minor": 0
      },
      "text/plain": [
       "  0%|          | 0/1 [00:00<?, ?it/s]"
      ]
     },
     "metadata": {},
     "output_type": "display_data"
    },
    {
     "name": "stdout",
     "output_type": "stream",
     "text": [
      "Starting from seed: 3107439511 range: 399\n"
     ]
    },
    {
     "data": {
      "application/vnd.jupyter.widget-view+json": {
       "model_id": "c154322f2a21403fb3c8b8c55f0a01c1",
       "version_major": 2,
       "version_minor": 0
      },
      "text/plain": [
       "  0%|          | 0/40 [00:00<?, ?it/s]"
      ]
     },
     "metadata": {},
     "output_type": "display_data"
    },
    {
     "name": "stdout",
     "output_type": "stream",
     "text": [
      "local minimum 3107439671: 52510809\n"
     ]
    },
    {
     "data": {
      "application/vnd.jupyter.widget-view+json": {
       "model_id": "3c8076306a684291b3696341ff7f3e85",
       "version_major": 2,
       "version_minor": 0
      },
      "text/plain": [
       "  0%|          | 0/1 [00:00<?, ?it/s]"
      ]
     },
     "metadata": {},
     "output_type": "display_data"
    },
    {
     "name": "stdout",
     "output_type": "stream",
     "text": [
      "Starting from seed: 3107439651 range: 39\n"
     ]
    },
    {
     "data": {
      "application/vnd.jupyter.widget-view+json": {
       "model_id": "7fdc55bb739745e1b8a3721086692078",
       "version_major": 2,
       "version_minor": 0
      },
      "text/plain": [
       "  0%|          | 0/38 [00:00<?, ?it/s]"
      ]
     },
     "metadata": {},
     "output_type": "display_data"
    },
    {
     "name": "stdout",
     "output_type": "stream",
     "text": [
      "local minimum 3107439671: 52510809\n"
     ]
    },
    {
     "data": {
      "text/plain": [
       "52510809"
      ]
     },
     "execution_count": 28,
     "metadata": {},
     "output_type": "execute_result"
    }
   ],
   "source": [
    "import sys\n",
    "from tqdm.notebook import tqdm\n",
    "\n",
    "def find_lowest_location_number_with_ranges(seeds,maps,step_size):\n",
    "    to_return = sys.maxsize\n",
    "    seed = -1\n",
    "    seed_seed_start = -1\n",
    "    for i in tqdm(range(0,len(seeds) // 2, 1)):\n",
    "        seed_start = seeds[i*2]\n",
    "        range_len = seeds[i*2 + 1]\n",
    "        print(\"Starting from seed: \" + str(seed_start) + \" range: \" + str(range_len))\n",
    "        for s in tqdm(range(seed_start, seed_start + range_len - 1, step_size)):\n",
    "            map_for_seed = fill_seed_map(s,maps)\n",
    "            location = map_for_seed[7] \n",
    "            if location < to_return:\n",
    "                to_return = location\n",
    "                seed_seed_start = seed_start\n",
    "                seed = s\n",
    "\n",
    "    print(\"local minimum \" + str(seed) + \": \" + str(to_return))\n",
    "    if step_size == 1:\n",
    "        return to_return\n",
    "    else:\n",
    "        return find_lowest_location_number_with_ranges( [max(seed - (2 * step_size), seed_seed_start), 4 * step_size - 1], maps, step_size // 10)\n",
    "    \n",
    "# part 2\n",
    "find_lowest_location_number_with_ranges(seeds, maps, 10000)"
   ]
  },
  {
   "cell_type": "code",
   "execution_count": null,
   "id": "979971c4",
   "metadata": {},
   "outputs": [],
   "source": [
    "\n"
   ]
  }
 ],
 "metadata": {
  "kernelspec": {
   "display_name": "Python 3 (ipykernel)",
   "language": "python",
   "name": "python3"
  },
  "language_info": {
   "codemirror_mode": {
    "name": "ipython",
    "version": 3
   },
   "file_extension": ".py",
   "mimetype": "text/x-python",
   "name": "python",
   "nbconvert_exporter": "python",
   "pygments_lexer": "ipython3",
   "version": "3.11.6"
  }
 },
 "nbformat": 4,
 "nbformat_minor": 5
}
