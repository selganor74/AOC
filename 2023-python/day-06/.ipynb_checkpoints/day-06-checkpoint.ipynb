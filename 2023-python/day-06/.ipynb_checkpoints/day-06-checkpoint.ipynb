{
 "cells": [
  {
   "cell_type": "markdown",
   "id": "0ffde433-7aaa-4150-a311-93cbe12ba340",
   "metadata": {},
   "source": [
    "--- Day 6: Wait For It ---\n",
    "\n",
    "The ferry quickly brings you across Island Island. After asking around, you discover that there is indeed normally a large pile of sand somewhere near here, but you don't see anything besides lots of water and the small island where the ferry has docked.\n",
    "\n",
    "As you try to figure out what to do next, you notice a poster on a wall near the ferry dock. \"Boat races! Open to the public! Grand prize is an all-expenses-paid trip to Desert Island!\" That must be where the sand comes from! Best of all, the boat races are starting in just a few minutes.\n",
    "\n",
    "You manage to sign up as a competitor in the boat races just in time. The organizer explains that it's not really a traditional race - instead, you will get a fixed amount of time during which your boat has to travel as far as it can, and you win if your boat goes the farthest.\n",
    "\n",
    "As part of signing up, you get a sheet of paper (your puzzle input) that lists the time allowed for each race and also the best distance ever recorded in that race. To guarantee you win the grand prize, you need to make sure you go farther in each race than the current record holder.\n",
    "\n",
    "The organizer brings you over to the area where the boat races are held. The boats are much smaller than you expected - they're actually toy boats, each with a big button on top. Holding down the button charges the boat, and releasing the button allows the boat to move. Boats move faster if their button was held longer, but time spent holding the button counts against the total race time. You can only hold the button at the start of the race, and boats don't move until the button is released.\n",
    "\n",
    "For example:\n",
    "\n",
    "Time:      7  15   30\n",
    "Distance:  9  40  200\n",
    "\n",
    "This document describes three races:\n",
    "\n",
    "    The first race lasts 7 milliseconds. The record distance in this race is 9 millimeters.\n",
    "    The second race lasts 15 milliseconds. The record distance in this race is 40 millimeters.\n",
    "    The third race lasts 30 milliseconds. The record distance in this race is 200 millimeters.\n",
    "\n",
    "Your toy boat has a starting speed of zero millimeters per millisecond. For each whole millisecond you spend at the beginning of the race holding down the button, the boat's speed increases by one millimeter per millisecond.\n",
    "\n",
    "So, because the first race lasts 7 milliseconds, you only have a few options:\n",
    "\n",
    "    Don't hold the button at all (that is, hold it for 0 milliseconds) at the start of the race. The boat won't move; it will have traveled 0 millimeters by the end of the race.\n",
    "    Hold the button for 1 millisecond at the start of the race. Then, the boat will travel at a speed of 1 millimeter per millisecond for 6 milliseconds, reaching a total distance traveled of 6 millimeters.\n",
    "    Hold the button for 2 milliseconds, giving the boat a speed of 2 millimeters per millisecond. It will then get 5 milliseconds to move, reaching a total distance of 10 millimeters.\n",
    "    Hold the button for 3 milliseconds. After its remaining 4 milliseconds of travel time, the boat will have gone 12 millimeters.\n",
    "    Hold the button for 4 milliseconds. After its remaining 3 milliseconds of travel time, the boat will have gone 12 millimeters.\n",
    "    Hold the button for 5 milliseconds, causing the boat to travel a total of 10 millimeters.\n",
    "    Hold the button for 6 milliseconds, causing the boat to travel a total of 6 millimeters.\n",
    "    Hold the button for 7 milliseconds. That's the entire duration of the race. You never let go of the button. The boat can't move until you let go of the button. Please make sure you let go of the button so the boat gets to move. 0 millimeters.\n",
    "\n",
    "Since the current record for this race is 9 millimeters, there are actually 4 different ways you could win: you could hold the button for 2, 3, 4, or 5 milliseconds at the start of the race.\n",
    "\n",
    "In the second race, you could hold the button for at least 4 milliseconds and at most 11 milliseconds and beat the record, a total of 8 different ways to win.\n",
    "\n",
    "In the third race, you could hold the button for at least 11 milliseconds and no more than 19 milliseconds and still beat the record, a total of 9 ways you could win.\n",
    "\n",
    "To see how much margin of error you have, determine the number of ways you can beat the record in each race; in this example, if you multiply these values together, you get 288 (4 * 8 * 9).\n",
    "\n",
    "Determine the number of ways you could beat the record in each race. What do you get if you multiply these numbers together?\n",
    "\n",
    "To begin, get your puzzle input.\n",
    "\n",
    "Your puzzle answer was 1731600.\n",
    "\n",
    "The first half of this puzzle is complete! It provides one gold star: *\n",
    "--- Part Two ---\n",
    "\n",
    "As the race is about to start, you realize the piece of paper with race times and record distances you got earlier actually just has very bad kerning. There's really only one race - ignore the spaces between the numbers on each line.\n",
    "\n",
    "So, the example from before:\n",
    "\n",
    "Time:      7  15   30\n",
    "Distance:  9  40  200\n",
    "\n",
    "...now instead means this:\n",
    "\n",
    "Time:      71530\n",
    "Distance:  940200\n",
    "\n",
    "Now, you have to figure out how many ways there are to win this single race. In this example, the race lasts for 71530 milliseconds and the record distance you need to beat is 940200 millimeters. You could hold the button anywhere from 14 to 71516 milliseconds and beat the record, a total of 71503 ways!\n",
    "\n",
    "How many ways can you beat the record in this one much longer race?\n",
    "\n",
    "Answer: 40087680\n",
    "\n"
   ]
  },
  {
   "cell_type": "code",
   "execution_count": 10,
   "id": "ae08cc98-18df-4186-8016-fe460ec6bcbb",
   "metadata": {},
   "outputs": [],
   "source": [
    "# Inputs\n",
    "time =       [ 50,     74,     86,     85]\n",
    "distance =   [242,   1017,   1691,   1252]\n",
    "\n",
    "# time =       [ 7,     15,     30 ]\n",
    "# distance =   [ 9,     40,    200 ]"
   ]
  },
  {
   "cell_type": "code",
   "execution_count": 11,
   "id": "372bfc2e-b79b-42b6-9a17-8419fce28157",
   "metadata": {},
   "outputs": [
    {
     "name": "stdout",
     "output_type": "stream",
     "text": [
      "Ways: 39\n",
      "Ways: 37\n",
      "Ways: 25\n",
      "Ways: 48\n"
     ]
    },
    {
     "data": {
      "text/plain": [
       "1731600"
      ]
     },
     "execution_count": 11,
     "metadata": {},
     "output_type": "execute_result"
    }
   ],
   "source": [
    "def get_race_distance(total_duration, button_press_time):\n",
    "\n",
    "    if button_press_time >= total_duration or button_press_time == 0:\n",
    "        return 0\n",
    "\n",
    "    speed = button_press_time\n",
    "    travel_time = total_duration - button_press_time\n",
    "    distance = speed * travel_time\n",
    "\n",
    "    return distance\n",
    "\n",
    "def get_ways_beating_the_record( total_duration, record_distance):\n",
    "    counter = 0\n",
    "    for button_press_time in range( 1, total_duration, 1):\n",
    "        if get_race_distance(total_duration, button_press_time) > record_distance:\n",
    "            counter += 1\n",
    "\n",
    "    return counter\n",
    "\n",
    "def get_part1( durations, records ):\n",
    "    result = 1\n",
    "    for i in range(0, len(durations) ):\n",
    "        ways = get_ways_beating_the_record( durations[i], records[i] )\n",
    "        result = result * ways\n",
    "        print(\"Ways: \" + str(ways))\n",
    "\n",
    "    return result\n",
    "\n",
    "get_part1( time, distance )"
   ]
  },
  {
   "cell_type": "code",
   "execution_count": 14,
   "id": "8335f1b1-3ca2-44b1-a906-d3e834f489c9",
   "metadata": {},
   "outputs": [],
   "source": [
    "p2_time = [50748685]\n",
    "p2_distance = [242101716911252]"
   ]
  },
  {
   "cell_type": "code",
   "execution_count": 15,
   "id": "70d5bdbf-007b-4f74-9d43-c4955776cd84",
   "metadata": {},
   "outputs": [
    {
     "name": "stdout",
     "output_type": "stream",
     "text": [
      "Ways: 40087680\n"
     ]
    },
    {
     "data": {
      "text/plain": [
       "40087680"
      ]
     },
     "execution_count": 15,
     "metadata": {},
     "output_type": "execute_result"
    }
   ],
   "source": [
    "get_part1(p2_time, p2_distance)"
   ]
  },
  {
   "cell_type": "code",
   "execution_count": null,
   "id": "356541f0-a1c3-4767-92ff-98cf2599e1e8",
   "metadata": {},
   "outputs": [],
   "source": []
  }
 ],
 "metadata": {
  "kernelspec": {
   "display_name": "Python 3 (ipykernel)",
   "language": "python",
   "name": "python3"
  },
  "language_info": {
   "codemirror_mode": {
    "name": "ipython",
    "version": 3
   },
   "file_extension": ".py",
   "mimetype": "text/x-python",
   "name": "python",
   "nbconvert_exporter": "python",
   "pygments_lexer": "ipython3",
   "version": "3.11.6"
  }
 },
 "nbformat": 4,
 "nbformat_minor": 5
}
